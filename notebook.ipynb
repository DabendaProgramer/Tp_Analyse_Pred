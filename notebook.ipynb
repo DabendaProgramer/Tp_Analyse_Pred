{
 "cells": [
  {
   "cell_type": "code",
   "execution_count": 2,
   "metadata": {},
   "outputs": [
    {
     "name": "stderr",
     "output_type": "stream",
     "text": [
      "/var/folders/v1/gz5q9qkj58l2gkh7wt9m6k3r0000gn/T/ipykernel_9107/302292245.py:8: DtypeWarning: Columns (8) have mixed types. Specify dtype option on import or set low_memory=False.\n",
      "  df_trans  = pd.read_csv(\"trans.tsv\", sep=\"\\t\")\n"
     ]
    },
    {
     "name": "stdout",
     "output_type": "stream",
     "text": [
      "Notebook prêt à l'utilisation !\n"
     ]
    }
   ],
   "source": [
    "\n",
    "import pandas as pd\n",
    "import numpy as np\n",
    "\n",
    "df_account = pd.read_csv(\"account.tsv\", sep=\"\\t\")\n",
    "df_client  = pd.read_csv(\"client.tsv\", sep=\"\\t\")\n",
    "df_disp  = pd.read_csv(\"disp.tsv\", sep=\"\\t\")\n",
    "df_pack = pd.read_csv(\"pack.tsv\", sep=\"\\t\")\n",
    "df_trans  = pd.read_csv(\"trans.tsv\", sep=\"\\t\")\n",
    "\n",
    "print(\"Notebook prêt à l'utilisation !\")\n"
   ]
  },
  {
   "cell_type": "code",
   "execution_count": 3,
   "metadata": {},
   "outputs": [
    {
     "name": "stdout",
     "output_type": "stream",
     "text": [
      "client_id              int64\n",
      "birth_date            object\n",
      "gender                object\n",
      "client_district_id     int64\n",
      "dtype: object\n",
      "(5369, 4)\n",
      "          client_id  client_district_id\n",
      "count   5369.000000         5369.000000\n",
      "mean    3359.011920           37.310114\n",
      "std     2832.911984           25.043690\n",
      "min        1.000000            1.000000\n",
      "25%     1418.000000           14.000000\n",
      "50%     2839.000000           38.000000\n",
      "75%     4257.000000           60.000000\n",
      "max    13998.000000           77.000000\n",
      "client_id             5369\n",
      "birth_date            5369\n",
      "gender                5369\n",
      "client_district_id    5369\n",
      "dtype: int64\n",
      "client_id             5369\n",
      "birth_date            4738\n",
      "gender                   2\n",
      "client_district_id      77\n",
      "dtype: int64\n"
     ]
    }
   ],
   "source": [
    "print(df_client.dtypes)\n",
    "print(df_client.shape)\n",
    "print(df_client.describe())\n",
    "print(df_client.count())\n",
    "print(df_client.nunique())\n"
   ]
  },
  {
   "cell_type": "code",
   "execution_count": 4,
   "metadata": {},
   "outputs": [
    {
     "name": "stdout",
     "output_type": "stream",
     "text": [
      "account_id              int64\n",
      "account_district_id     int64\n",
      "account_date_opened    object\n",
      "statement_freq         object\n",
      "dtype: object\n",
      "(4500, 4)\n",
      "         account_id  account_district_id\n",
      "count   4500.000000          4500.000000\n",
      "mean    2786.067556            37.310444\n",
      "std     2313.811984            25.177217\n",
      "min        1.000000             1.000000\n",
      "25%     1182.750000            13.000000\n",
      "50%     2368.000000            38.000000\n",
      "75%     3552.250000            60.000000\n",
      "max    11382.000000            77.000000\n",
      "account_id             4500\n",
      "account_district_id    4500\n",
      "account_date_opened    4500\n",
      "statement_freq         4500\n",
      "dtype: int64\n",
      "account_id             4500\n",
      "account_district_id      77\n",
      "account_date_opened    1535\n",
      "statement_freq            3\n",
      "dtype: int64\n"
     ]
    }
   ],
   "source": [
    "print(df_account.dtypes)\n",
    "print(df_account.shape)\n",
    "print(df_account.describe())\n",
    "print(df_account.count())\n",
    "print(df_account.nunique())\n"
   ]
  },
  {
   "cell_type": "code",
   "execution_count": 5,
   "metadata": {},
   "outputs": [
    {
     "name": "stdout",
     "output_type": "stream",
     "text": [
      "disp_id        int64\n",
      "client_id      int64\n",
      "account_id     int64\n",
      "type          object\n",
      "dtype: object\n",
      "(5369, 4)\n",
      "            disp_id     client_id    account_id\n",
      "count   5369.000000   5369.000000   5369.000000\n",
      "mean    3337.097970   3359.011920   2767.496927\n",
      "std     2770.418826   2832.911984   2307.843630\n",
      "min        1.000000      1.000000      1.000000\n",
      "25%     1418.000000   1418.000000   1178.000000\n",
      "50%     2839.000000   2839.000000   2349.000000\n",
      "75%     4257.000000   4257.000000   3526.000000\n",
      "max    13690.000000  13998.000000  11382.000000\n",
      "disp_id       5369\n",
      "client_id     5369\n",
      "account_id    5369\n",
      "type          5369\n",
      "dtype: int64\n",
      "disp_id       5369\n",
      "client_id     5369\n",
      "account_id    4500\n",
      "type             2\n",
      "dtype: int64\n"
     ]
    }
   ],
   "source": [
    "print(df_disp.dtypes)\n",
    "print(df_disp.shape)\n",
    "print(df_disp.describe())\n",
    "print(df_disp.count())\n",
    "print(df_disp.nunique())\n",
    "\n"
   ]
  },
  {
   "cell_type": "code",
   "execution_count": 6,
   "metadata": {},
   "outputs": [
    {
     "name": "stdout",
     "output_type": "stream",
     "text": [
      "pack_id       int64\n",
      "disp_id       int64\n",
      "pack_type    object\n",
      "pack_date    object\n",
      "dtype: object\n",
      "(892, 4)\n",
      "           pack_id       disp_id\n",
      "count   892.000000    892.000000\n",
      "mean    480.855381   3511.862108\n",
      "std     306.933982   2984.373626\n",
      "min       1.000000      9.000000\n",
      "25%     229.750000   1387.000000\n",
      "50%     456.500000   2938.500000\n",
      "75%     684.250000   4459.500000\n",
      "max    1247.000000  13660.000000\n",
      "pack_id      892\n",
      "disp_id      892\n",
      "pack_type    892\n",
      "pack_date    892\n",
      "dtype: int64\n",
      "pack_id      892\n",
      "disp_id      892\n",
      "pack_type      3\n",
      "pack_date    607\n",
      "dtype: int64\n"
     ]
    }
   ],
   "source": [
    "print(df_pack.dtypes)\n",
    "print(df_pack.shape)\n",
    "print(df_pack.describe())\n",
    "print(df_pack.count())\n",
    "print(df_pack.nunique())\n",
    "\n"
   ]
  },
  {
   "cell_type": "code",
   "execution_count": 7,
   "metadata": {},
   "outputs": [
    {
     "name": "stdout",
     "output_type": "stream",
     "text": [
      "trans_id                   int64\n",
      "account_id                 int64\n",
      "date                      object\n",
      "trans_amount             float64\n",
      "balance_after_trans      float64\n",
      "trans_type                object\n",
      "trans_operation           object\n",
      "trans_k_symbol            object\n",
      "trans_bank_partner        object\n",
      "trans_account_partner    float64\n",
      "dtype: object\n",
      "(1056320, 10)\n",
      "           trans_id    account_id  trans_amount  balance_after_trans  \\\n",
      "count  1.056320e+06  1.056320e+06  1.056320e+06         1.056320e+06   \n",
      "mean   1.335311e+06  2.936867e+03  1.866397e+01         3.851833e+03   \n",
      "std    1.227487e+06  2.477345e+03  1.121353e+03         2.211787e+03   \n",
      "min    1.000000e+00  1.000000e+00 -8.740000e+03        -4.112570e+03   \n",
      "25%    4.302628e+05  1.204000e+03 -3.019000e+02         2.240250e+03   \n",
      "50%    8.585065e+05  2.434000e+03 -1.460000e+00         3.314340e+03   \n",
      "75%    2.060979e+06  3.660000e+03  2.000000e+01         4.960362e+03   \n",
      "max    3.682987e+06  1.138200e+04  7.481200e+03         2.096370e+04   \n",
      "\n",
      "       trans_account_partner  \n",
      "count           2.953890e+05  \n",
      "mean            4.567092e+07  \n",
      "std             3.066340e+07  \n",
      "min             0.000000e+00  \n",
      "25%             1.782858e+07  \n",
      "50%             4.575095e+07  \n",
      "75%             7.201341e+07  \n",
      "max             9.999420e+07  \n",
      "trans_id                 1056320\n",
      "account_id               1056320\n",
      "date                     1056320\n",
      "trans_amount             1056320\n",
      "balance_after_trans      1056320\n",
      "trans_type               1056320\n",
      "trans_operation          1056320\n",
      "trans_k_symbol           1056310\n",
      "trans_bank_partner        295389\n",
      "trans_account_partner     295389\n",
      "dtype: int64\n",
      "trans_id                 1056320\n",
      "account_id                  4500\n",
      "date                        2191\n",
      "trans_amount               48987\n",
      "balance_after_trans       542739\n",
      "trans_type                     3\n",
      "trans_operation                6\n",
      "trans_k_symbol                 8\n",
      "trans_bank_partner            14\n",
      "trans_account_partner       7665\n",
      "dtype: int64\n"
     ]
    }
   ],
   "source": [
    "print(df_trans.dtypes)\n",
    "print(df_trans.shape)\n",
    "print(df_trans.describe())\n",
    "print(df_trans.count())\n",
    "print(df_trans.nunique())\n",
    "\n"
   ]
  },
  {
   "cell_type": "code",
   "execution_count": 8,
   "metadata": {},
   "outputs": [
    {
     "name": "stdout",
     "output_type": "stream",
     "text": [
      "Jointure complète réalisée !\n",
      "   disp_id  client_id  account_id type  account_district_id  \\\n",
      "0        1          1           1    O                   18   \n",
      "1        2          2           2    O                    1   \n",
      "2        3          3           2    D                    1   \n",
      "3        4          4           3    O                    5   \n",
      "4        5          5           3    D                    5   \n",
      "\n",
      "  account_date_opened statement_freq  birth_date gender  client_district_id  \\\n",
      "0          2015-03-24              M  1990-12-13      F                  18   \n",
      "1          2013-02-26              M  1965-02-04      M                   1   \n",
      "2          2013-02-26              M  1960-10-09      F                   1   \n",
      "3          2017-07-07              M  1976-12-01      M                   5   \n",
      "4          2017-07-07              M  1980-07-03      F                   5   \n",
      "\n",
      "   pack_id pack_type pack_date  \n",
      "0      NaN       NaN       NaN  \n",
      "1      NaN       NaN       NaN  \n",
      "2      NaN       NaN       NaN  \n",
      "3      NaN       NaN       NaN  \n",
      "4      NaN       NaN       NaN  \n"
     ]
    }
   ],
   "source": [
    "# Étape 1 : Jointure entre Disposition et Account\n",
    "df_disp_account = pd.merge(df_disp, df_account, on=\"account_id\", how=\"outer\")\n",
    "\n",
    "# Étape 2 : Jointure avec Client\n",
    "df_disp_account_client = pd.merge(df_disp_account, df_client, on=\"client_id\", how=\"outer\")\n",
    "\n",
    "# Étape 3 : Jointure avec Package\n",
    "df_full = pd.merge(df_disp_account_client, df_pack, on=\"disp_id\", how=\"outer\")\n",
    "\n",
    "# Afficher un aperçu du DataFrame final\n",
    "print(\"Jointure complète réalisée !\")\n",
    "print(df_full.head())\n"
   ]
  },
  {
   "cell_type": "code",
   "execution_count": 9,
   "metadata": {},
   "outputs": [
    {
     "name": "stdout",
     "output_type": "stream",
     "text": [
      "<class 'pandas.core.frame.DataFrame'>\n",
      "RangeIndex: 5369 entries, 0 to 5368\n",
      "Data columns (total 13 columns):\n",
      " #   Column               Non-Null Count  Dtype  \n",
      "---  ------               --------------  -----  \n",
      " 0   disp_id              5369 non-null   int64  \n",
      " 1   client_id            5369 non-null   int64  \n",
      " 2   account_id           5369 non-null   int64  \n",
      " 3   type                 5369 non-null   object \n",
      " 4   account_district_id  5369 non-null   int64  \n",
      " 5   account_date_opened  5369 non-null   object \n",
      " 6   statement_freq       5369 non-null   object \n",
      " 7   birth_date           5369 non-null   object \n",
      " 8   gender               5369 non-null   object \n",
      " 9   client_district_id   5369 non-null   int64  \n",
      " 10  pack_id              892 non-null    float64\n",
      " 11  pack_type            892 non-null    object \n",
      " 12  pack_date            892 non-null    object \n",
      "dtypes: float64(1), int64(5), object(7)\n",
      "memory usage: 545.4+ KB\n",
      "None\n",
      "disp_id                   0\n",
      "client_id                 0\n",
      "account_id                0\n",
      "type                      0\n",
      "account_district_id       0\n",
      "account_date_opened       0\n",
      "statement_freq            0\n",
      "birth_date                0\n",
      "gender                    0\n",
      "client_district_id        0\n",
      "pack_id                4477\n",
      "pack_type              4477\n",
      "pack_date              4477\n",
      "dtype: int64\n"
     ]
    }
   ],
   "source": [
    "print(df_full.info())  # Informations générales\n",
    "print(df_full.isnull().sum())  # Compter les valeurs manquantes par colonne\n"
   ]
  },
  {
   "cell_type": "code",
   "execution_count": 11,
   "metadata": {},
   "outputs": [
    {
     "name": "stdout",
     "output_type": "stream",
     "text": [
      "disp_id                  int64\n",
      "client_id                int64\n",
      "account_id               int64\n",
      "type                    object\n",
      "account_district_id      int64\n",
      "account_date_opened     object\n",
      "statement_freq          object\n",
      "birth_date              object\n",
      "gender                  object\n",
      "client_district_id       int64\n",
      "pack_id                float64\n",
      "pack_type               object\n",
      "pack_date               object\n",
      "dtype: object\n"
     ]
    }
   ],
   "source": [
    "print(df_full.dtypes)\n"
   ]
  },
  {
   "cell_type": "code",
   "execution_count": 12,
   "metadata": {},
   "outputs": [
    {
     "name": "stdout",
     "output_type": "stream",
     "text": [
      "Valeurs manquantes par colonne :\n",
      "disp_id                   0\n",
      "client_id                 0\n",
      "account_id                0\n",
      "type                      0\n",
      "account_district_id       0\n",
      "account_date_opened       0\n",
      "statement_freq            0\n",
      "birth_date                0\n",
      "gender                    0\n",
      "client_district_id        0\n",
      "pack_id                4477\n",
      "pack_type              4477\n",
      "pack_date              4477\n",
      "dtype: int64\n",
      "\n",
      "Pourcentage de valeurs manquantes par colonne :\n",
      "disp_id                 0.000000\n",
      "client_id               0.000000\n",
      "account_id              0.000000\n",
      "type                    0.000000\n",
      "account_district_id     0.000000\n",
      "account_date_opened     0.000000\n",
      "statement_freq          0.000000\n",
      "birth_date              0.000000\n",
      "gender                  0.000000\n",
      "client_district_id      0.000000\n",
      "pack_id                83.386105\n",
      "pack_type              83.386105\n",
      "pack_date              83.386105\n",
      "dtype: float64\n"
     ]
    }
   ],
   "source": [
    "# Vérification des valeurs manquantes dans le DataFrame fusionné\n",
    "missing_values = df_full.isnull().sum()\n",
    "print(\"Valeurs manquantes par colonne :\")\n",
    "print(missing_values)\n",
    "\n",
    "# Proportion de valeurs manquantes\n",
    "missing_percentage = (missing_values / len(df_full)) * 100\n",
    "print(\"\\nPourcentage de valeurs manquantes par colonne :\")\n",
    "print(missing_percentage)\n"
   ]
  },
  {
   "cell_type": "code",
   "execution_count": 13,
   "metadata": {},
   "outputs": [
    {
     "name": "stdout",
     "output_type": "stream",
     "text": [
      "\n",
      "Année de naissance la plus ancienne : 1931-08-20 00:00:00\n",
      "Année de naissance la plus récente : 2007-09-27 00:00:00\n"
     ]
    }
   ],
   "source": [
    "# Convertir les dates de naissance en format datetime si nécessaire\n",
    "df_full['birth_date'] = pd.to_datetime(df_full['birth_date'], errors='coerce')\n",
    "\n",
    "# Identifier les années les plus anciennes et les plus récentes\n",
    "earliest_birth = df_full['birth_date'].min()\n",
    "latest_birth = df_full['birth_date'].max()\n",
    "\n",
    "print(\"\\nAnnée de naissance la plus ancienne :\", earliest_birth)\n",
    "print(\"Année de naissance la plus récente :\", latest_birth)\n"
   ]
  },
  {
   "cell_type": "code",
   "execution_count": 15,
   "metadata": {},
   "outputs": [
    {
     "name": "stdout",
     "output_type": "stream",
     "text": [
      "Dimensions du jeu d'apprentissage : (4739, 13)\n",
      "Dimensions du jeu d'application : (630, 13)\n"
     ]
    }
   ],
   "source": [
    "# Convertir les dates en format datetime si nécessaire\n",
    "df_full['account_date_opened'] = pd.to_datetime(df_full['account_date_opened'], errors='coerce')\n",
    "\n",
    "# Définir la date limite\n",
    "cutoff_date = pd.Timestamp(\"2017-06-01\")\n",
    "\n",
    "# Filtrer les données d'apprentissage (avant le 1er juin 2017)\n",
    "df_training = df_full[df_full['account_date_opened'] < cutoff_date]\n",
    "\n",
    "# Filtrer les données d'application (à partir du 1er juin 2017)\n",
    "df_application = df_full[df_full['account_date_opened'] >= cutoff_date]\n",
    "\n",
    "# Afficher les dimensions des jeux de données\n",
    "print(\"Dimensions du jeu d'apprentissage :\", df_training.shape)\n",
    "print(\"Dimensions du jeu d'application :\", df_application.shape)\n"
   ]
  }
 ],
 "metadata": {
  "kernelspec": {
   "display_name": "Python 3",
   "language": "python",
   "name": "python3"
  },
  "language_info": {
   "codemirror_mode": {
    "name": "ipython",
    "version": 3
   },
   "file_extension": ".py",
   "mimetype": "text/x-python",
   "name": "python",
   "nbconvert_exporter": "python",
   "pygments_lexer": "ipython3",
   "version": "3.9.6"
  }
 },
 "nbformat": 4,
 "nbformat_minor": 2
}
